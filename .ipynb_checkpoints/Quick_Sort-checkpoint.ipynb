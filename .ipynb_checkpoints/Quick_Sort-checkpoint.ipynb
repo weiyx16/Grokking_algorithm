{
 "cells": [
  {
   "attachments": {},
   "cell_type": "markdown",
   "metadata": {},
   "source": [
    "# Reading Note\n",
    "\n",
    "*Divide and conquer (D&C)* 分而治之，本质是递归的。\n",
    "> 简单的基线条件+不断分解问题使得最终符合基线条件\n",
    "\n",
    "快排：最简单的数组就是不需要排序的数组（空或只含一个元素）所以分而治之。\n",
    "> 首先有一个基准值pivot，然后基于这个基准值进行数组分区，把所有小于基准值的归为一边，称为一个子数组，大于基准值的归为另一个子数组。再对两个子数组进行同样地基于基准值排序，直到**子数组长度<=1**，返回数组本身，否则**继续拆分**。所有计算量在根据基准值进行左右划分处。\n",
    "\n",
    "介绍合并排序：总是$o(n log(n))$，但是快排：平均$o(n log(n))$，最坏$o(n^2)$\n",
    "> 那为什么pick 快排？因为在复杂度前面，还有单次操作的时间施加影响，造成对程序实际运行的时间差异。\n",
    "\n",
    "什么是算法运行的平均情况，什么是最糟糕的情况？\n",
    "> 快排最坏情况，每次pick pivot = min/max of the rest list。  \n",
    "> 快排平均情况，调用栈的高度平均为$log_2(n)$，每层大约需要$o(n)$去比较来划分子数组。"
   ]
  },
  {
   "cell_type": "code",
   "execution_count": 5,
   "metadata": {},
   "outputs": [],
   "source": [
    "def quick_sort(lists):\n",
    "    if len(lists) <= 1:\n",
    "        return lists\n",
    "    else:\n",
    "        pivot = lists[0]\n",
    "        small_lists = []\n",
    "        big_lists = []\n",
    "        for element in lists[1:]:\n",
    "            if element <= pivot:\n",
    "                small_lists.append(element)\n",
    "            else:\n",
    "                big_lists.append(element)\n",
    "        sorted_small = quick_sort(small_lists)\n",
    "        sorted_big = quick_sort(big_lists)\n",
    "        return sorted_small + [pivot] + sorted_big"
   ]
  },
  {
   "cell_type": "code",
   "execution_count": 14,
   "metadata": {},
   "outputs": [],
   "source": [
    "lists = [2, 4, 5, 2, 1, 3, 9, 5, 7, 6, 10, 8, 1]\n",
    "sorted_lists = quick_sort(lists)"
   ]
  },
  {
   "cell_type": "code",
   "execution_count": 15,
   "metadata": {},
   "outputs": [
    {
     "data": {
      "text/plain": [
       "[]"
      ]
     },
     "execution_count": 15,
     "metadata": {},
     "output_type": "execute_result"
    }
   ],
   "source": [
    "sorted_lists"
   ]
  },
  {
   "cell_type": "code",
   "execution_count": null,
   "metadata": {},
   "outputs": [],
   "source": []
  }
 ],
 "metadata": {
  "kernelspec": {
   "display_name": "Python 3",
   "language": "python",
   "name": "python3"
  },
  "language_info": {
   "codemirror_mode": {
    "name": "ipython",
    "version": 3
   },
   "file_extension": ".py",
   "mimetype": "text/x-python",
   "name": "python",
   "nbconvert_exporter": "python",
   "pygments_lexer": "ipython3",
   "version": "3.6.5"
  }
 },
 "nbformat": 4,
 "nbformat_minor": 2
}
