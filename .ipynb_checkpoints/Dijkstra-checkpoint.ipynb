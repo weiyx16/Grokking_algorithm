{
 "cells": [
  {
   "attachments": {},
   "cell_type": "markdown",
   "metadata": {},
   "source": [
    "# Dijkstra\n",
    "**加权**图（有向无环图） 两点间（固定起点的任意两点间）最短路径 + 最小支撑树（要求不存在负值边，否则得用值迭代法/*Bellman-Ford*算法）  \n",
    "原因：如果存在负权值边，那么会出现，已纳入节点的路径在后续更新中发现，并不是代价最小的路径。  \n",
    "\n",
    "> 核心思想：如果A->B的最短路径上有C,则A->C也是所有A到C的路径中最短的。\n",
    "\n",
    "所以逐步更新割集左右两侧的纳入的点，使得每次加入都是**割集值最短**（最小支撑树）/**到达路径长度最短**（最短路径）的顶点，同时只更新 新加入顶点连接的其他点的相关代价，保证代价始终最小即可。\n",
    "\n",
    "**如何推断最短路径：**  \n",
    "用父节点+子节点的方法，存下所有的父节点+子节点对（即所有从割集中取出的边，每次从S'到S中，都会取上割集的一个边）。最后目标终点作为子节点，推其父节点，再读以其为子节点，推其父节点。  "
   ]
  },
  {
   "cell_type": "code",
   "execution_count": 1,
   "metadata": {},
   "outputs": [],
   "source": [
    "# graph connection\n",
    "graph = {}\n",
    "graph['A'] = ['B', 'D', 'F']\n",
    "graph['B'] = ['E']\n",
    "graph['C'] = ['B', 'E']\n",
    "graph['D'] = ['C']\n",
    "graph['E'] = []\n",
    "graph['F'] = ['B', 'E']\n",
    "node_list = ['A','B','C','D','E','F']\n",
    "\n",
    "# graph cost\n",
    "import random\n",
    "graph_cost = {}\n",
    "for k,v in graph.items():\n",
    "    graph_cost[k] = {}\n",
    "    for neigh in v:\n",
    "        graph_cost[k][neigh] = random.randint(1, 10)\n",
    "infinity = float(\"inf\")"
   ]
  },
  {
   "cell_type": "code",
   "execution_count": 2,
   "metadata": {},
   "outputs": [
    {
     "name": "stdout",
     "output_type": "stream",
     "text": [
      "{'A': {'B': 1, 'D': 3, 'F': 3}, 'B': {'E': 9}, 'C': {'B': 5, 'E': 8}, 'D': {'C': 3}, 'E': {}, 'F': {'B': 3, 'E': 10}}\n"
     ]
    }
   ],
   "source": [
    "# graph least_path\n",
    "graph_least_cost = {}\n",
    "for node in node_list:\n",
    "    graph_least_cost[node] = infinity\n",
    "\n",
    "# graph cut_edge (child->key, parent->value)\n",
    "graph_cut_edge = {}\n",
    "for node in node_list:\n",
    "    graph_cut_edge[node] = None\n",
    "begin_point = 'A'\n",
    "end_point = 'E'\n",
    "\n",
    "# show graph\n",
    "print(graph_cost)"
   ]
  },
  {
   "cell_type": "code",
   "execution_count": 3,
   "metadata": {},
   "outputs": [],
   "source": [
    "def graph_least_update(graph_least_cost, graph_cut_edge, graph_cost, cur_node):\n",
    "    neighs = graph_cost[cur_node]\n",
    "    cost_2_cur = graph_least_cost[cur_node]\n",
    "    for k, v in neighs.items():\n",
    "        if (cost_2_cur + v) < graph_least_cost[k]:\n",
    "            graph_least_cost[k] = cost_2_cur + v\n",
    "            graph_cut_edge[k] = cur_node\n",
    "            \n",
    "    return graph_least_cost, graph_cut_edge"
   ]
  },
  {
   "cell_type": "code",
   "execution_count": 4,
   "metadata": {},
   "outputs": [],
   "source": [
    "def node_add(graph_least_cost, node_list, node_flag, cur_node):\n",
    "    least_cost = float(\"inf\")\n",
    "    least_node = None\n",
    "    for node in node_list:\n",
    "        if not node_flag[node_list.index(node)]:\n",
    "            if graph_least_cost[node] < least_cost:\n",
    "                least_node = node\n",
    "                least_cost = graph_least_cost[node]\n",
    "                \n",
    "    node_flag[node_list.index(least_node)] = True\n",
    "    return least_node, node_flag"
   ]
  },
  {
   "cell_type": "code",
   "execution_count": 5,
   "metadata": {},
   "outputs": [],
   "source": [
    "def dijkstra(graph, graph_cost, graph_least_cost, graph_cut_edge, begin_point, end_point, node_list):\n",
    "    graph_cut_edge[begin_point] = 'Begin'\n",
    "    graph_least_cost[begin_point] = 0\n",
    "    \n",
    "    # graph searched_flag\n",
    "    node_flag = [False]*len(node_list)\n",
    "    node_flag[node_list.index(begin_point)] = True\n",
    "    \n",
    "    cur_node = begin_point\n",
    "    for node in range(len(node_list) - 1):\n",
    "        # update\n",
    "        graph_least_cost, graph_cut_edge = graph_least_update(graph_least_cost, graph_cut_edge, graph_cost, cur_node)\n",
    "        # fetch smallest and unreached one\n",
    "        least_node, node_flag = node_add(graph_least_cost, node_list, node_flag, cur_node)\n",
    "        cur_node = least_node\n",
    "    # recover path from graph_cut_edge\n",
    "    point = end_point\n",
    "    path = []\n",
    "    while point is not 'Begin':\n",
    "        path.append(point)\n",
    "        point = graph_cut_edge[point]\n",
    "    return path[::-1]"
   ]
  },
  {
   "cell_type": "code",
   "execution_count": 6,
   "metadata": {},
   "outputs": [
    {
     "data": {
      "text/plain": [
       "['A', 'B', 'E']"
      ]
     },
     "execution_count": 6,
     "metadata": {},
     "output_type": "execute_result"
    }
   ],
   "source": [
    "dijkstra(graph, graph_cost, graph_least_cost, graph_cut_edge, begin_point, end_point, node_list)"
   ]
  }
 ],
 "metadata": {
  "kernelspec": {
   "display_name": "Python 3",
   "language": "python",
   "name": "python3"
  },
  "language_info": {
   "codemirror_mode": {
    "name": "ipython",
    "version": 3
   },
   "file_extension": ".py",
   "mimetype": "text/x-python",
   "name": "python",
   "nbconvert_exporter": "python",
   "pygments_lexer": "ipython3",
   "version": "3.6.5"
  }
 },
 "nbformat": 4,
 "nbformat_minor": 2
}
