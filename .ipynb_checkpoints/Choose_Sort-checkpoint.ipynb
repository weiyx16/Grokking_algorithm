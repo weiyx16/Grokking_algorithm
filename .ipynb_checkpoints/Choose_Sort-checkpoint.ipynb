{
 "cells": [
  {
   "cell_type": "markdown",
   "metadata": {},
   "source": [
    "# Reading Note\n",
    "+ 数组：内存相连，不易扩展，内存预留浪费 读取O(1),插入/含删除O(n)\n",
    "+ 链表存在的问题：访问困难，访问下一个需要到上一个元素来读取地址 读取O(n),插入O(1),但其实插入的时候，由于要索引到对应位置，实际还是O(n)\n",
    "+ 链表数组，比如存储用户名信息，A-Z用数组，A里面每一个用户名用链表\n",
    "\n",
    "> 选择排序: $O(n^2)$ choose the biggest one in the remnant numbers and top it to the back of ordered part array."
   ]
  },
  {
   "cell_type": "code",
   "execution_count": 1,
   "metadata": {},
   "outputs": [],
   "source": [
    "# -*- coding: utf-8 -*-\n",
    "def find_smallest_element(lists, find_max = False):\n",
    "    smallest_idx = 0\n",
    "    biggest_idx = 0\n",
    "    for idx, element in enumerate(lists):\n",
    "        if element < lists[smallest_idx]:\n",
    "            smallest_idx = idx\n",
    "        if find_max:\n",
    "            if element > lists[biggest_idx]:\n",
    "                biggest_idx = idx\n",
    "    return smallest_idx, lists[biggest_idx]"
   ]
  },
  {
   "cell_type": "code",
   "execution_count": 12,
   "metadata": {},
   "outputs": [],
   "source": [
    "def choose_sort(lists, up_order = True):\n",
    "    sorted_line = []\n",
    "    for i in range(len(lists)):\n",
    "        if i == 0:\n",
    "            smallest_idx, biggest = find_smallest_element(lists, True)\n",
    "        else:\n",
    "            smallest_idx, _ = find_smallest_element(lists, False)\n",
    "            \n",
    "        sorted_line.append(lists[smallest_idx])\n",
    "        lists[smallest_idx] = biggest\n",
    "    if not up_order:\n",
    "        sorted_line = sorted_line[::-1]\n",
    "    return sorted_line"
   ]
  },
  {
   "cell_type": "code",
   "execution_count": 13,
   "metadata": {},
   "outputs": [],
   "source": [
    "unsorted_line = [10, 6, 6, 6, 10]\n",
    "sorted_line = choose_sort(unsorted_line, False)"
   ]
  },
  {
   "cell_type": "code",
   "execution_count": 14,
   "metadata": {},
   "outputs": [
    {
     "data": {
      "text/plain": [
       "[10, 10, 6, 6, 6]"
      ]
     },
     "execution_count": 14,
     "metadata": {},
     "output_type": "execute_result"
    }
   ],
   "source": [
    "sorted_line"
   ]
  },
  {
   "cell_type": "code",
   "execution_count": null,
   "metadata": {},
   "outputs": [],
   "source": []
  }
 ],
 "metadata": {
  "kernelspec": {
   "display_name": "Python 3",
   "language": "python",
   "name": "python3"
  },
  "language_info": {
   "codemirror_mode": {
    "name": "ipython",
    "version": 3
   },
   "file_extension": ".py",
   "mimetype": "text/x-python",
   "name": "python",
   "nbconvert_exporter": "python",
   "pygments_lexer": "ipython3",
   "version": "3.6.5"
  }
 },
 "nbformat": 4,
 "nbformat_minor": 2
}
