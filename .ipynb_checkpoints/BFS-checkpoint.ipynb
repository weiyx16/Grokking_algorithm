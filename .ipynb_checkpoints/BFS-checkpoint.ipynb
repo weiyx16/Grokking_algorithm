{
 "cells": [
  {
   "cell_type": "markdown",
   "metadata": {},
   "source": [
    "# BFS\n",
    "不仅可以用于树，也可以用于图。  \n",
    "在队列中检查（弹出）相邻顶点时，压入该顶点所有未被遍历的相邻节点即可 FIFO。与初始节点的路径长度有关，称为几度关系，广度优先会先检查完所有的n度关系，再查找n+1度关系 -> 最短路径\n",
    "\n",
    "### 图的存储：\n",
    "\n",
    "新方法 - 基于散列表的存储：  \n",
    "\n",
    "```python\n",
    "graph={}  \n",
    "graph['you'] = ['A', 'B', 'C']   \n",
    "```\n",
    "也就是说，把节点相关的所有邻居变成了键对应的值（多个值，可能用链表避免冲突）或者说有点类似与链式存储？\n",
    "\n",
    "### 运行时间:\n",
    "$O(V+E)\\ (node\\ number\\ +\\ edge\\ number)$\n",
    "\n",
    "### 拓扑排序：\n",
    "e.g. 前序课程依赖，从图中恢复一个**有序列表**，使得列表中的元素间的依赖关系通过在列表上出现的位置反映出来。"
   ]
  },
  {
   "cell_type": "code",
   "execution_count": 1,
   "metadata": {},
   "outputs": [],
   "source": [
    "# predefine the graph\n",
    "graph={}\n",
    "graph['A'] = ['B', 'D', 'F']\n",
    "graph['B'] = []\n",
    "graph['C'] = ['A', 'E']\n",
    "graph['D'] = ['C']\n",
    "graph['E'] = ['A', 'D']\n",
    "graph['F'] = ['B', 'E']\n",
    "node_list = ['A','B','C','D','E','F']"
   ]
  },
  {
   "cell_type": "code",
   "execution_count": 2,
   "metadata": {},
   "outputs": [],
   "source": [
    "class myQueue:\n",
    "    def __init__(self, init=[]):\n",
    "        self.content = []\n",
    "        if init:\n",
    "            self.inqueue(init) \n",
    "    def outqueue(self):\n",
    "        assert self.length() > 0, 'Queue Length is not enough'\n",
    "        return self.content.pop(0)\n",
    "    def queuehead(self):\n",
    "        return self.content[0]\n",
    "    def inqueue(self, inQueue):\n",
    "        if isinstance(inQueue, list):\n",
    "            for element in inQueue:\n",
    "                self._inqueue_single(element)\n",
    "        else:\n",
    "            self._inqueue_single(inQueue)\n",
    "    def _inqueue_single(self, element):\n",
    "        try:\n",
    "            self.content.append(element)\n",
    "        except:\n",
    "            print(' Error during insert queue')\n",
    "    def isEmpty(self):\n",
    "        if self.content:\n",
    "            return False\n",
    "        else:\n",
    "            return True\n",
    "    def length(self):\n",
    "        return len(self.content)\n",
    "    \n",
    "    # ref: https://www.programiz.com/python-programming/iterator\n",
    "    def __iter__(self):\n",
    "        self._iter_count = 0\n",
    "        self._len = self.length()\n",
    "        return self\n",
    "\n",
    "    def __next__(self):\n",
    "        if self._iter_count < self._len:\n",
    "            result = self.content[self._iter_count]\n",
    "            self._iter_count += 1\n",
    "            return result\n",
    "        else:\n",
    "            raise StopIteration\n",
    "            \n",
    "    def show(self):\n",
    "        print('For now, queue is {}' .format(self.content))"
   ]
  },
  {
   "cell_type": "code",
   "execution_count": 8,
   "metadata": {},
   "outputs": [],
   "source": [
    "cur_queue = myQueue()\n",
    "begin_point = 'A'\n",
    "end_point = 'E'"
   ]
  },
  {
   "cell_type": "code",
   "execution_count": 4,
   "metadata": {},
   "outputs": [],
   "source": [
    "def searched_index(node_list, node_flag, cur_node):\n",
    "    idx = node_list.index(cur_node)\n",
    "    if node_flag[idx] == False:\n",
    "        node_flag[idx] == True\n",
    "        return False, node_flag\n",
    "    else:\n",
    "        return True, node_flag"
   ]
  },
  {
   "cell_type": "code",
   "execution_count": 5,
   "metadata": {},
   "outputs": [],
   "source": [
    "def paths_update(paths, cur_point, next_point):\n",
    "    father_path = paths.pop(0)\n",
    "    if not next_point:\n",
    "        return paths\n",
    "    else:\n",
    "        for point in next_point:\n",
    "            paths.append(father_path + [point])\n",
    "        return paths"
   ]
  },
  {
   "cell_type": "code",
   "execution_count": 6,
   "metadata": {},
   "outputs": [],
   "source": [
    "def search(graph, queue, begin_point, end_point, node_list):\n",
    "    paths = []\n",
    "    node_flag = [False]*len(node_list)\n",
    "    queue.inqueue(graph[begin_point])\n",
    "    _, node_flag = searched_index(node_list, node_flag, begin_point)\n",
    "    for element in iter(queue):\n",
    "        paths.append([begin_point, element])\n",
    "    while not queue.isEmpty():\n",
    "        cur_point = queue.outqueue()\n",
    "        if cur_point == end_point:\n",
    "            return paths[0]\n",
    "        else:\n",
    "            cur_point_searched, node_flag = searched_index(node_list, node_flag, cur_point)\n",
    "            if not cur_point_searched:\n",
    "                next_point = graph[cur_point]\n",
    "                paths = paths_update(paths, cur_point, next_point)\n",
    "                queue.inqueue(next_point)"
   ]
  },
  {
   "cell_type": "code",
   "execution_count": 9,
   "metadata": {},
   "outputs": [
    {
     "data": {
      "text/plain": [
       "['C', 'E']"
      ]
     },
     "execution_count": 9,
     "metadata": {},
     "output_type": "execute_result"
    }
   ],
   "source": [
    "search(graph, cur_queue, begin_point, end_point, node_list)"
   ]
  },
  {
   "cell_type": "code",
   "execution_count": null,
   "metadata": {},
   "outputs": [],
   "source": []
  }
 ],
 "metadata": {
  "kernelspec": {
   "display_name": "Python 3",
   "language": "python",
   "name": "python3"
  },
  "language_info": {
   "codemirror_mode": {
    "name": "ipython",
    "version": 3
   },
   "file_extension": ".py",
   "mimetype": "text/x-python",
   "name": "python",
   "nbconvert_exporter": "python",
   "pygments_lexer": "ipython3",
   "version": "3.6.5"
  }
 },
 "nbformat": 4,
 "nbformat_minor": 2
}
