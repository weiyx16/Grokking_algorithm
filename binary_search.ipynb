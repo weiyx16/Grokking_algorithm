{
 "cells": [
  {
   "attachments": {},
   "cell_type": "markdown",
   "metadata": {},
   "source": [
    "# Reading Note\n",
    "* 二分查找\n",
    "    * 2的指数代替index\n",
    "    * 仅当列表有序\n",
    "    * 线性时间和对数时间。\n",
    "* 大O表示\n",
    "    * 和元素的数量有关，表示了算法运行时间的增速。O(n)表示的最糟糕的情形下算法可能的时间开销增速。\n",
    "    * 所以算法的速度并非指时间，而是操作数的增速。随着操作数增加，算法会以怎样的速度增加时间开销，谈论算法的速度时，我们说的是随着输入的增加，运行时间将以什么样的速度增加。"
   ]
  },
  {
   "cell_type": "code",
   "execution_count": 1,
   "metadata": {},
   "outputs": [],
   "source": [
    "import math"
   ]
  },
  {
   "cell_type": "code",
   "execution_count": 11,
   "metadata": {},
   "outputs": [],
   "source": [
    "def binear_research(list_in, item_find):\n",
    "    high_index = len(list_in) - 1\n",
    "    low_index = 0\n",
    "    \n",
    "    while(low_index <= high_index):\n",
    "        middle_init = math.floor((high_index+low_index) / 2)\n",
    "        if (item_find == list_in[middle_init]):\n",
    "            return middle_init\n",
    "        elif (item_find < list_in[middle_init]):\n",
    "            high_index = middle_init - 1 # substract 1 is very important thing when you get stuck in [a,a+1]\n",
    "        else :\n",
    "            low_index = middle_init + 1\n",
    "    return -1"
   ]
  },
  {
   "cell_type": "code",
   "execution_count": 12,
   "metadata": {},
   "outputs": [],
   "source": [
    "test = [1,3,5,7,9]\n",
    "item = 11"
   ]
  },
  {
   "cell_type": "code",
   "execution_count": 13,
   "metadata": {},
   "outputs": [],
   "source": [
    "index = binear_research(test, item)"
   ]
  },
  {
   "cell_type": "code",
   "execution_count": 14,
   "metadata": {},
   "outputs": [
    {
     "name": "stdout",
     "output_type": "stream",
     "text": [
      "-1\n"
     ]
    }
   ],
   "source": [
    "print(index)"
   ]
  }
 ],
 "metadata": {
  "kernelspec": {
   "display_name": "Python 3",
   "language": "python",
   "name": "python3"
  },
  "language_info": {
   "codemirror_mode": {
    "name": "ipython",
    "version": 3
   },
   "file_extension": ".py",
   "mimetype": "text/x-python",
   "name": "python",
   "nbconvert_exporter": "python",
   "pygments_lexer": "ipython3",
   "version": "3.6.5"
  }
 },
 "nbformat": 4,
 "nbformat_minor": 2
}
